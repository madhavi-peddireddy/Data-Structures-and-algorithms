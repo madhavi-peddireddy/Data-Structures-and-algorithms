{
 "cells": [
  {
   "cell_type": "code",
   "execution_count": 4,
   "metadata": {},
   "outputs": [
    {
     "name": "stdout",
     "output_type": "stream",
     "text": [
      "4\n"
     ]
    }
   ],
   "source": [
    "#Count of given number\n",
    "\n",
    "def countofnum(n):\n",
    "    c=0\n",
    "    while(n>0):\n",
    "        R=n%10\n",
    "        c=c+1\n",
    "        n=n//10\n",
    "    return c\n",
    "k=countofnum(int(input(\"enter the number\")))\n",
    "print(k)"
   ]
  },
  {
   "cell_type": "code",
   "execution_count": 9,
   "metadata": {},
   "outputs": [
    {
     "name": "stdout",
     "output_type": "stream",
     "text": [
      "3\n"
     ]
    }
   ],
   "source": [
    "import math\n",
    "def countnum(n):\n",
    "    c=int(math.log(n,10)+1)\n",
    "    return c\n",
    "k=countnum(int(input(\"enter the number:\")))\n",
    "print(k)"
   ]
  },
  {
   "cell_type": "code",
   "execution_count": 5,
   "metadata": {},
   "outputs": [
    {
     "name": "stdout",
     "output_type": "stream",
     "text": [
      "3\n"
     ]
    }
   ],
   "source": [
    "#Given a number n. Count the number of digits in n which evenly divide n. Return an integer, total number of digits of n which divides n evenly.\n",
    "\n",
    "def digitscount(n):\n",
    "    c=0\n",
    "    s=n\n",
    "    while(n>0):\n",
    "        r=n%10\n",
    "        if r!=0 and s%r==0:\n",
    "            c=c+1\n",
    "        n=n//10\n",
    "    return c\n",
    "k=digitscount(int(input(\"enter the number:\")))\n",
    "print(k)"
   ]
  }
 ],
 "metadata": {
  "kernelspec": {
   "display_name": "Python 3",
   "language": "python",
   "name": "python3"
  },
  "language_info": {
   "codemirror_mode": {
    "name": "ipython",
    "version": 3
   },
   "file_extension": ".py",
   "mimetype": "text/x-python",
   "name": "python",
   "nbconvert_exporter": "python",
   "pygments_lexer": "ipython3",
   "version": "3.11.3"
  }
 },
 "nbformat": 4,
 "nbformat_minor": 2
}
