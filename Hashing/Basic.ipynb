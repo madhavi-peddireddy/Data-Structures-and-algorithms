{
 "cells": [
  {
   "cell_type": "code",
   "execution_count": 10,
   "metadata": {},
   "outputs": [
    {
     "name": "stdout",
     "output_type": "stream",
     "text": [
      "[0, 1, 4, 3, 3, 2, 1, 1, 1, 1, 1]\n"
     ]
    }
   ],
   "source": [
    "#PreStoring\n",
    "l1=[2,3,2,1,2,3,5,4,7,3,8,9,2,10,4,6,5,4]\n",
    "n=3\n",
    "Hash_list=[0,0,0,0,0,0,0,0,0,0,0]\n",
    "for i in l1:\n",
    "    Hash_list[i]+=1\n",
    "    \n",
    "print(Hash_list)\n",
    "\n",
    "\n"
   ]
  },
  {
   "cell_type": "code",
   "execution_count": 12,
   "metadata": {},
   "outputs": [
    {
     "name": "stdout",
     "output_type": "stream",
     "text": [
      "4\n"
     ]
    }
   ],
   "source": [
    "#Fetching\n",
    "N=int(input(\"enter the number you want to count:\"))\n",
    "print(Hash_list[N])"
   ]
  }
 ],
 "metadata": {
  "kernelspec": {
   "display_name": "Python 3",
   "language": "python",
   "name": "python3"
  },
  "language_info": {
   "codemirror_mode": {
    "name": "ipython",
    "version": 3
   },
   "file_extension": ".py",
   "mimetype": "text/x-python",
   "name": "python",
   "nbconvert_exporter": "python",
   "pygments_lexer": "ipython3",
   "version": "3.11.3"
  }
 },
 "nbformat": 4,
 "nbformat_minor": 2
}
