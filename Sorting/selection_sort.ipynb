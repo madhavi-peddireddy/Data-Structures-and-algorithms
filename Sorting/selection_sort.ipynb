{
 "cells": [
  {
   "cell_type": "code",
   "execution_count": 24,
   "metadata": {},
   "outputs": [
    {
     "name": "stdout",
     "output_type": "stream",
     "text": [
      "[9, 13, 20, 24, 46, 52]\n"
     ]
    }
   ],
   "source": [
    "## Selection Sort\n",
    "#Select minimum and swap\n",
    "\n",
    "def SelectionSort(lis):\n",
    "    n=len(lis)\n",
    "    temp=0\n",
    "    for i in range(n-1):\n",
    "    \n",
    "        min=i\n",
    "        \n",
    "        for j in range(i,n):\n",
    "            if lis[j]<lis[min]:\n",
    "                min=j\n",
    "            \n",
    "        temp=lis[i]\n",
    "        lis[i]=lis[min]\n",
    "        lis[min]=temp  \n",
    "    return lis      \n",
    "            \n",
    "            \n",
    "    \n",
    "    \n",
    "    \n",
    "\n",
    "lis=[13,46,24,52,20,9]\n",
    "k=SelectionSort(lis);\n",
    "print(k)"
   ]
  },
  {
   "cell_type": "code",
   "execution_count": null,
   "metadata": {},
   "outputs": [],
   "source": []
  }
 ],
 "metadata": {
  "kernelspec": {
   "display_name": "Python 3",
   "language": "python",
   "name": "python3"
  },
  "language_info": {
   "codemirror_mode": {
    "name": "ipython",
    "version": 3
   },
   "file_extension": ".py",
   "mimetype": "text/x-python",
   "name": "python",
   "nbconvert_exporter": "python",
   "pygments_lexer": "ipython3",
   "version": "3.11.3"
  }
 },
 "nbformat": 4,
 "nbformat_minor": 2
}
