{
 "cells": [
  {
   "cell_type": "code",
   "execution_count": 16,
   "metadata": {},
   "outputs": [
    {
     "name": "stdout",
     "output_type": "stream",
     "text": [
      "[1, 2, 3, 4, 6, 8]\n"
     ]
    }
   ],
   "source": [
    "def BubbleSort(a):\n",
    "    n=len(a)\n",
    "    temp=0\n",
    "    swaped=0\n",
    "    for i in range(n):\n",
    "\n",
    "        for j in range(1,n):\n",
    "            if a[j]<a[j-1]:\n",
    "                temp=a[j-1]\n",
    "                a[j-1]=a[j]\n",
    "                a[j]=temp\n",
    "                swaped+=1\n",
    "        if swaped==0:\n",
    "            break;\n",
    "    return a\n",
    "k=BubbleSort([3,2,1,6,4,8]);\n",
    "print(k)"
   ]
  },
  {
   "cell_type": "code",
   "execution_count": 7,
   "metadata": {},
   "outputs": [
    {
     "name": "stdout",
     "output_type": "stream",
     "text": [
      "[9, 13, 20, 24, 46, 52]\n"
     ]
    }
   ],
   "source": [
    "a=[13,46,24,52,20,9]\n",
    "temp=0\n",
    "n=len(a)\n",
    "for j in range(n):\n",
    "    for i in range(1,n):\n",
    "        if a[i]<a[i-1]:\n",
    "            temp=a[i]\n",
    "            a[i]=a[i-1]\n",
    "            a[i-1]=temp\n",
    "print(a)\n",
    "        "
   ]
  }
 ],
 "metadata": {
  "kernelspec": {
   "display_name": "Python 3",
   "language": "python",
   "name": "python3"
  },
  "language_info": {
   "codemirror_mode": {
    "name": "ipython",
    "version": 3
   },
   "file_extension": ".py",
   "mimetype": "text/x-python",
   "name": "python",
   "nbconvert_exporter": "python",
   "pygments_lexer": "ipython3",
   "version": "3.11.3"
  }
 },
 "nbformat": 4,
 "nbformat_minor": 2
}
