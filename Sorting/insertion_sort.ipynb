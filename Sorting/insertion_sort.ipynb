{
 "cells": [
  {
   "cell_type": "code",
   "execution_count": 28,
   "metadata": {},
   "outputs": [
    {
     "name": "stdout",
     "output_type": "stream",
     "text": [
      "[6, 8, 9, 12, 13, 14, 15]\n"
     ]
    }
   ],
   "source": [
    "def InsertionSort(lis,n):\n",
    "    for i in range(n):\n",
    "        j=i\n",
    "        while(j>0 and lis[j-1]>lis[j]):\n",
    "            temp=lis[j-1]\n",
    "            lis[j-1]=lis[j]\n",
    "            lis[j]=temp\n",
    "            j=j-1\n",
    "    return lis\n",
    "k=InsertionSort(lis=[14,9,15,12,6,8,13],n=7)\n",
    "print(k)"
   ]
  },
  {
   "cell_type": "code",
   "execution_count": 25,
   "metadata": {},
   "outputs": [
    {
     "name": "stdout",
     "output_type": "stream",
     "text": [
      "[6, 8, 9, 12, 13, 14, 15]\n"
     ]
    }
   ],
   "source": [
    "lis=[14,9,15,12,6,8,13]\n",
    "n=len(lis)\n",
    "for i in range(n):\n",
    "    j=i\n",
    "    while(j>0 and lis[j-1]>lis[j]):\n",
    "        temp=lis[j-1]\n",
    "        lis[j-1]=lis[j]\n",
    "        lis[j]=temp\n",
    "        j=j-1\n",
    "print(lis)"
   ]
  }
 ],
 "metadata": {
  "kernelspec": {
   "display_name": "Python 3",
   "language": "python",
   "name": "python3"
  },
  "language_info": {
   "codemirror_mode": {
    "name": "ipython",
    "version": 3
   },
   "file_extension": ".py",
   "mimetype": "text/x-python",
   "name": "python",
   "nbconvert_exporter": "python",
   "pygments_lexer": "ipython3",
   "version": "3.11.3"
  }
 },
 "nbformat": 4,
 "nbformat_minor": 2
}
